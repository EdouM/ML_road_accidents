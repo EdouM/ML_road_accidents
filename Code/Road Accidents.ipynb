{
 "cells": [
  {
   "cell_type": "code",
   "execution_count": 10,
   "metadata": {
    "collapsed": false
   },
   "outputs": [],
   "source": [
    "#imports\n",
    "import pandas as pd\n",
    "import numpy as np\n",
    "import matplotlib.pyplot as plt\n",
    "import xgboost as xgb\n",
    "from matplotlib.dates import MonthLocator, DateFormatter"
   ]
  },
  {
   "cell_type": "code",
   "execution_count": 6,
   "metadata": {
    "collapsed": false
   },
   "outputs": [],
   "source": [
    "#Import the data\n",
    "data = pd.read_csv('../Data/data.csv')"
   ]
  },
  {
   "cell_type": "code",
   "execution_count": 7,
   "metadata": {
    "collapsed": false
   },
   "outputs": [],
   "source": [
    "#We drop a few columns that do not help make a decision\n",
    "data.drop(['2nd_Road_Number','1st_Road_Number','Local_Authority_(Highway)','Local_Authority_(District)','Location_Easting_OSGR', 'Location_Northing_OSGR','LSOA_of_Accident_Location'],axis = 1,inplace = True)\n"
   ]
  },
  {
   "cell_type": "code",
   "execution_count": 11,
   "metadata": {
    "collapsed": false
   },
   "outputs": [
    {
     "data": {
      "image/png": "[encoded data removed]",
      "text/plain": [
       "<matplotlib.figure.Figure at 0x115c1a050>"
      ]
     },
     "metadata": {},
     "output_type": "display_data"
    }
   ],
   "source": [
    "#Draw plots to get a feel of the data\n",
    "data['Date'] = pd.to_datetime(data['Date'])\n",
    "data['YearMonth'] = data['Date'].map(lambda x: str(x.month) + '-01-' + str(x.year))\n",
    "daily_stats = pd.DataFrame(data.groupby('YearMonth').apply(lambda x: sum(x['Did_Police_Officer_Attend_Scene_of_Accident']==1)/float(len(x))*100)).reset_index()\n",
    "daily_stats.columns = ['Date','PercentageAttendance']\n",
    "daily_stats['Date'] = pd.to_datetime(daily_stats['Date'])\n",
    "daily_stats = daily_stats.sort_values(by='Date')\n",
    "\n",
    "months = MonthLocator(range(1, 13), bymonthday=1, interval=3)\n",
    "monthsFmt = DateFormatter(\"%b '%y\")\n",
    "\n",
    "fig, ax = plt.subplots()\n",
    "ax.plot_date(daily_stats['Date'], daily_stats['PercentageAttendance'], '-')\n",
    "ax.xaxis.set_major_locator(months)\n",
    "ax.xaxis.set_major_formatter(monthsFmt)\n",
    "ax.grid(True)\n",
    "fig.autofmt_xdate()\n",
    "plt.show()"
   ]
  },
  {
   "cell_type": "code",
   "execution_count": 25,
   "metadata": {
    "collapsed": false
   },
   "outputs": [],
   "source": [
    "#We make use of the time of the day the accident takes place\n",
    "data['Hour']=data.Time.str[0:2]"
   ]
  },
  {
   "cell_type": "code",
   "execution_count": 26,
   "metadata": {
    "collapsed": true
   },
   "outputs": [],
   "source": [
    "#We drop the Date and Time column\n",
    "data.drop(['Date','Time'],axis=1,inplace=True)"
   ]
  },
  {
   "cell_type": "code",
   "execution_count": 27,
   "metadata": {
    "collapsed": false
   },
   "outputs": [],
   "source": [
    "#We map did_police_officer_attend_scene_of_accident to 0 and 1\n",
    "data.Did_Police_Officer_Attend_Scene_of_Accident = data.Did_Police_Officer_Attend_Scene_of_Accident.map({2:0,1:1})\n"
   ]
  },
  {
   "cell_type": "code",
   "execution_count": 28,
   "metadata": {
    "collapsed": true
   },
   "outputs": [],
   "source": [
    "columns_to_dummy = data.columns.difference(['Accident_Index','Longitude','Latitude','Did_Police_Officer_Attend_Scene_of_Accident']).values"
   ]
  },
  {
   "cell_type": "code",
   "execution_count": 29,
   "metadata": {
    "collapsed": false
   },
   "outputs": [
    {
     "name": "stdout",
     "output_type": "stream",
     "text": [
      "Creating dummies...\n",
      "Done.\n"
     ]
    }
   ],
   "source": [
    "#Get dummies for all the integer values\n",
    "print('Creating dummies...')\n",
    "\n",
    "for column in columns_to_dummy:\n",
    "    data = pd.concat([data,pd.get_dummies(data[column], prefix = column)],axis=1)\n",
    "    \n",
    "print('Done.')"
   ]
  },
  {
   "cell_type": "code",
   "execution_count": 31,
   "metadata": {
    "collapsed": false
   },
   "outputs": [],
   "source": [
    "#We drop the useless columns\n",
    "data.drop(columns_to_dummy, axis = 1,inplace= True)"
   ]
  },
  {
   "cell_type": "code",
   "execution_count": 32,
   "metadata": {
    "collapsed": false
   },
   "outputs": [],
   "source": [
    "#Normalize Longitude and Latitude\n",
    "Longitude_mean = data.Longitude.mean()\n",
    "data['Longitude'] = data['Longitude'].apply(lambda x: (x-Longitude_mean))\n",
    "\n",
    "Latitude_mean = data.Latitude.mean()\n",
    "data['Latitude'] = data['Latitude'].apply(lambda x: (x-Latitude_mean))"
   ]
  },
  {
   "cell_type": "code",
   "execution_count": 33,
   "metadata": {
    "collapsed": false
   },
   "outputs": [],
   "source": [
    "#We split the data\n",
    "from sklearn.cross_validation import train_test_split\n",
    "X_train, X_test, Y_train, Y_test = train_test_split(data.drop(['Accident_Index','Did_Police_Officer_Attend_Scene_of_Accident'],axis=1),data.Did_Police_Officer_Attend_Scene_of_Accident, test_size = 0.1)"
   ]
  },
  {
   "cell_type": "code",
   "execution_count": 34,
   "metadata": {
    "collapsed": true
   },
   "outputs": [],
   "source": [
    "#Import cross_validation\n",
    "from sklearn import cross_validation as cross_v\n",
    "kf = cross_v.KFold(X_train.shape[0],n_folds = 3, random_state = 1)\n"
   ]
  },
  {
   "cell_type": "code",
   "execution_count": 35,
   "metadata": {
    "collapsed": false
   },
   "outputs": [
    {
     "name": "stdout",
     "output_type": "stream",
     "text": [
      "Training classifier...\n",
      "Classifier trained.\n"
     ]
    }
   ],
   "source": [
    "#Train XGBOOST\n",
    "print('Training classifier...')\n",
    "xg = xgb.XGBClassifier()\n",
    "xg.fit(X_train,Y_train)\n",
    "print('Classifier trained.')\n"
   ]
  },
  {
   "cell_type": "code",
   "execution_count": 36,
   "metadata": {
    "collapsed": false
   },
   "outputs": [
    {
     "data": {
      "text/plain": [
       "\"from sklearn.grid_search import GridSearchCV\\nxg = xgb.XGBClassifier()\\n\\nparameter_grid = {\\n    'n_estimators' : [100,200],\\n    'max_depth' : [3,6],\\n    'learning_rate' : [0.1,0.3]\\n}\\n\\nprint('Training..')\\ngrid_search = GridSearchCV(xg, param_grid = parameter_grid,cv = kf)\\n\\ngrid_search.fit(X_train,Y_train)\\n\\nprint('Done.')\\nprint('Best score: {}'.format(grid_search.best_score_))\\nprint('Best parameters : {}'.format(grid_search.best_params_))\\n\""
      ]
     },
     "execution_count": 36,
     "metadata": {},
     "output_type": "execute_result"
    }
   ],
   "source": [
    "#Gridsearch on XGBoost\n",
    "print('Running gridsearch on XGBoost, may take a while ~30 minutes')\n",
    "from sklearn.grid_search import GridSearchCV\n",
    "xg = xgb.XGBClassifier()\n",
    "\n",
    "parameter_grid = {\n",
    "    'n_estimators' : [100,200],\n",
    "    'max_depth' : [3,6],\n",
    "    'learning_rate' : [0.1,0.3]\n",
    "}\n",
    "\n",
    "print('Training..')\n",
    "grid_search = GridSearchCV(xg, param_grid = parameter_grid,cv = kf)\n",
    "\n",
    "grid_search.fit(X_train,Y_train)\n",
    "\n",
    "print('Done.')\n",
    "print('Best score: {}'.format(grid_search.best_score_))\n",
    "print('Best parameters : {}'.format(grid_search.best_params_))\n"
   ]
  },
  {
   "cell_type": "code",
   "execution_count": 37,
   "metadata": {
    "collapsed": false
   },
   "outputs": [
    {
     "name": "stdout",
     "output_type": "stream",
     "text": [
      "0.821909382902\n"
     ]
    }
   ],
   "source": [
    "from sklearn.metrics import accuracy_score\n",
    "#Predict the values of the test\n",
    "Y_pred = xg.predict(X_test)\n",
    "acc_score = accuracy_score(Y_test,Y_pred)\n",
    "\n",
    "print(acc_score)"
   ]
  }
 ],
 "metadata": {
  "anaconda-cloud": {},
  "kernelspec": {
   "display_name": "Python [default]",
   "language": "python",
   "name": "python2"
  },
  "language_info": {
   "codemirror_mode": {
    "name": "ipython",
    "version": 2
   },
   "file_extension": ".py",
   "mimetype": "text/x-python",
   "name": "python",
   "nbconvert_exporter": "python",
   "pygments_lexer": "ipython2",
   "version": "2.7.12"
  }
 },
 "nbformat": 4,
 "nbformat_minor": 1
}
